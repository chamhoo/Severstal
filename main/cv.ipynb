{
 "cells": [
  {
   "cell_type": "code",
   "execution_count": null,
   "metadata": {},
   "outputs": [],
   "source": [
    "%load_ext autoreload\n",
    "%autoreload 2\n",
    "\n",
    "import warnings\n",
    "warnings.filterwarnings('ignore')\n",
    "\n",
    "import os\n",
    "import numpy as np\n",
    "import matplotlib.pyplot as plt\n",
    "import tensorflow as tf\n",
    "from tqdm import tqdm\n",
    "\n",
    "import sys\n",
    "sys.path.append(os.path.abspath('..'))\n",
    "\n",
    "from tools.network import Network\n",
    "from tools.decode_raw import decode_img_seg\n",
    "\n",
    "os.environ[\"TF_CPP_MIN_LOG_LEVEL\"] = \"3\""
   ]
  },
  {
   "cell_type": "code",
   "execution_count": null,
   "metadata": {},
   "outputs": [],
   "source": [
    "csv_path = os.path.join('..', 'data', 'train.csv')\n",
    "train_path = os.path.join('..', 'data', 'train_images')\n",
    "tfr_path = os.path.join('..', 'tmp', 'TFRecords', 'train')\n",
    "ckpt_dir = os.path.join('..', 'tmp', 'ckpt', 'cv')\n",
    "\n",
    "feature_dict = {\n",
    "    'img': 'bytes', \n",
    "    'label': 'bytes',\n",
    "    'height': 'int', \n",
    "    'width': 'int',\n",
    "    'channels': 'int',\n",
    "    'n_class': 'int'\n",
    "}\n",
    "\n",
    "rt_params = {\n",
    "    'feature_dict': feature_dict, \n",
    "    'decode_raw': decode_img_seg,\n",
    "    'tfr_path': os.path.join(tfr_path, '*.tfrecord'),\n",
    "    'shuffle_buffer': 100,\n",
    "    'compression': 'GZIP',\n",
    "    'num_parallel_reads':3\n",
    "}\n",
    "\n",
    "readtrain_params = {\n",
    "    'rt_params': rt_params, \n",
    "    'train_path': train_path,\n",
    "    'epoch': 2,\n",
    "    'batch_size': 32,\n",
    "    'reshape': [32, 200],\n",
    "    'reshape_method': 3}\n",
    "\n",
    "arch_params = {\n",
    "    'num_layers': 3,\n",
    "    'feature_growth_rate': 16,\n",
    "    'n_class': 5,\n",
    "    'channels': 3,\n",
    "    'padding': 'SAME',\n",
    "    'dropout_rate':0.25\n",
    "}\n",
    "\n",
    "model_params = {\n",
    "    'model_name': 'unet',\n",
    "    'model_params': arch_params,\n",
    "    'loss': 'cross_entropy',\n",
    "    'metric': 'neg_dice',\n",
    "    'optimizer': 'momentun',\n",
    "    'rate': 1e-6}\n",
    "\n",
    "network = Network()"
   ]
  },
  {
   "cell_type": "code",
   "execution_count": null,
   "metadata": {},
   "outputs": [],
   "source": [
    "result = network.cv(\n",
    "    readtrain_params, \n",
    "    model_params,\n",
    "    ckpt_dir=ckpt_dir,\n",
    "    nfolds=5,\n",
    "    train_percentage=0.8,\n",
    "    early_stopping=1,\n",
    "    verbose=2)"
   ]
  },
  {
   "cell_type": "code",
   "execution_count": null,
   "metadata": {},
   "outputs": [],
   "source": []
  }
 ],
 "metadata": {
  "kernelspec": {
   "display_name": "Python 3",
   "language": "python",
   "name": "python3"
  },
  "language_info": {
   "codemirror_mode": {
    "name": "ipython",
    "version": 3
   },
   "file_extension": ".py",
   "mimetype": "text/x-python",
   "name": "python",
   "nbconvert_exporter": "python",
   "pygments_lexer": "ipython3",
   "version": "3.7.4"
  }
 },
 "nbformat": 4,
 "nbformat_minor": 2
}
