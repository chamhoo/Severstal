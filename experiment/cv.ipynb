{
 "cells": [
  {
   "cell_type": "code",
   "execution_count": 1,
   "metadata": {},
   "outputs": [],
   "source": [
    "%load_ext autoreload\n",
    "%autoreload 2\n",
    "\n",
    "import warnings\n",
    "warnings.filterwarnings('ignore')\n",
    "\n",
    "import os\n",
    "import numpy as np\n",
    "import matplotlib.pyplot as plt\n",
    "import tensorflow as tf\n",
    "from tqdm import tqdm\n",
    "\n",
    "import sys\n",
    "sys.path.append(os.path.abspath('..'))\n",
    "\n",
    "from fiat.train import cv_oof\n",
    "from fiat.os import count\n",
    "from fiat.arch.image_seg import unet\n",
    "from tools.data import seg_train_gen, decode_img_seg, feature_dict\n",
    "\n",
    "os.environ[\"TF_CPP_MIN_LOG_LEVEL\"] = \"3\""
   ]
  },
  {
   "cell_type": "code",
   "execution_count": 2,
   "metadata": {},
   "outputs": [],
   "source": [
    "csv_path = os.path.join('..', 'data', 'train.csv')\n",
    "train_path = os.path.join('..', 'data', 'train_images')\n",
    "tfr_path = os.path.join('..', 'tmp', 'cv', 'tfr')\n",
    "ckpt_dir = os.path.join('..', 'tmp', 'cv', 'ckpt')"
   ]
  },
  {
   "cell_type": "code",
   "execution_count": 3,
   "metadata": {},
   "outputs": [],
   "source": [
    "tfr_param = {'path': tfr_path,\n",
    "             'count': count(train_path), \n",
    "             'feature_dict': feature_dict,\n",
    "             'compression': 'GZIP',\n",
    "             'c_level': 1}\n",
    "\n",
    "gen = seg_train_gen(csv_path, train_path, sep='[_,]', nclass=4)\n",
    "\n",
    "read_param = {'decode_raw': decode_img_seg, \n",
    "              'buffer_size': 100,\n",
    "              'num_parallel_reads': 3}\n",
    "\n",
    "arch = unet(num_layers=3, \n",
    "            feature_growth_rate=16,\n",
    "            n_class=4,\n",
    "            channels=3,\n",
    "            padding='SAME',\n",
    "            dropout_rate=0.25,\n",
    "            active='sigmoid')\n",
    "\n",
    "train_param = {'loss': 'dice', 'metric': 'dice',\n",
    "               'optimizer': 'momentun', 'rate': 1e-6, \n",
    "               'epoch':1, 'batch_size': 1, \n",
    "               'early_stopping': 1,\n",
    "               'reshape': [32, 200], 'reshape_method': 3, \n",
    "               'distrainable': False}"
   ]
  },
  {
   "cell_type": "code",
   "execution_count": 4,
   "metadata": {},
   "outputs": [
    {
     "name": "stderr",
     "output_type": "stream",
     "text": [
      "WARNING: Logging before flag parsing goes to stderr.\n",
      "W1017 19:35:05.794657 139750419167040 deprecation_wrapper.py:119] From /home/leechh/code/Severstal/fiat/train.py:61: The name tf.reset_default_graph is deprecated. Please use tf.compat.v1.reset_default_graph instead.\n",
      "\n",
      "W1017 19:35:05.836550 139750419167040 deprecation.py:323] From /home/leechh/anaconda3/envs/severstal/lib/python3.7/site-packages/tensorflow/python/data/util/random_seed.py:58: add_dispatch_support.<locals>.wrapper (from tensorflow.python.ops.array_ops) is deprecated and will be removed in a future version.\n",
      "Instructions for updating:\n",
      "Use tf.where in 2.0, which has the same broadcast rule as np.where\n",
      "W1017 19:35:05.947486 139750419167040 deprecation.py:323] From /home/leechh/code/Severstal/fiat/train.py:74: DatasetV1.make_initializable_iterator (from tensorflow.python.data.ops.dataset_ops) is deprecated and will be removed in a future version.\n",
      "Instructions for updating:\n",
      "Use `for ... in dataset:` to iterate over a dataset. If using `tf.estimator`, return the `Dataset` object directly from your input function. As a last resort, you can use `tf.compat.v1.data.make_initializable_iterator(dataset)`.\n",
      "W1017 19:35:05.961532 139750419167040 deprecation_wrapper.py:119] From /home/leechh/code/Severstal/fiat/components/arch/variable.py:24: The name tf.truncated_normal is deprecated. Please use tf.random.truncated_normal instead.\n",
      "\n",
      "W1017 19:35:06.070977 139750419167040 deprecation_wrapper.py:119] From /home/leechh/code/Severstal/fiat/components/arch/layers.py:45: The name tf.nn.max_pool is deprecated. Please use tf.nn.max_pool2d instead.\n",
      "\n",
      "W1017 19:35:06.316089 139750419167040 deprecation_wrapper.py:119] From /home/leechh/code/Severstal/fiat/optimizer.py:30: The name tf.train.MomentumOptimizer is deprecated. Please use tf.compat.v1.train.MomentumOptimizer instead.\n",
      "\n",
      "W1017 19:35:06.869536 139750419167040 deprecation_wrapper.py:119] From /home/leechh/code/Severstal/fiat/train.py:93: The name tf.train.Saver is deprecated. Please use tf.compat.v1.train.Saver instead.\n",
      "\n",
      "W1017 19:35:06.932135 139750419167040 deprecation_wrapper.py:119] From /home/leechh/code/Severstal/fiat/train.py:94: The name tf.Session is deprecated. Please use tf.compat.v1.Session instead.\n",
      "\n",
      "W1017 19:35:07.050235 139750419167040 deprecation_wrapper.py:119] From /home/leechh/code/Severstal/fiat/train.py:98: The name tf.global_variables_initializer is deprecated. Please use tf.compat.v1.global_variables_initializer instead.\n",
      "\n",
      "W1017 19:35:07.052756 139750419167040 deprecation_wrapper.py:119] From /home/leechh/code/Severstal/fiat/train.py:98: The name tf.local_variables_initializer is deprecated. Please use tf.compat.v1.local_variables_initializer instead.\n",
      "\n",
      "epoch 1, train loss: 0.9854, valid metric: 0.9864: 100%|██████████| 10054/10054 [03:59<00:00,  3.92s/it]\n"
     ]
    },
    {
     "name": "stdout",
     "output_type": "stream",
     "text": [
      "best epoch is 1,  train score is 0.9853570072070396, valid score is 0.9863538663351261\n"
     ]
    },
    {
     "name": "stderr",
     "output_type": "stream",
     "text": [
      "epoch 1, train loss: 0.9853, valid metric: 0.9854: 100%|██████████| 10054/10054 [03:35<00:00,  1.33s/it]\n"
     ]
    },
    {
     "name": "stdout",
     "output_type": "stream",
     "text": [
      "best epoch is 1,  train score is 0.9853208710759824, valid score is 0.9853999770721369\n"
     ]
    },
    {
     "name": "stderr",
     "output_type": "stream",
     "text": [
      "epoch 1, train loss: 0.9856, valid metric: 0.9852: 100%|██████████| 10054/10054 [03:37<00:00,  1.98s/it]\n"
     ]
    },
    {
     "name": "stdout",
     "output_type": "stream",
     "text": [
      "best epoch is 1,  train score is 0.9855660876851682, valid score is 0.9852410929489439\n"
     ]
    },
    {
     "name": "stderr",
     "output_type": "stream",
     "text": [
      "epoch 1, train loss: 0.9857, valid metric: 0.9848: 100%|██████████| 10054/10054 [03:39<00:00,  2.70s/it]\n"
     ]
    },
    {
     "name": "stdout",
     "output_type": "stream",
     "text": [
      "best epoch is 1,  train score is 0.9857234056140121, valid score is 0.9847725488737451\n"
     ]
    },
    {
     "name": "stderr",
     "output_type": "stream",
     "text": [
      "epoch 1, train loss: 0.9854, valid metric: 0.9855: 100%|██████████| 10056/10056 [03:50<00:00,  1.36s/it]"
     ]
    },
    {
     "name": "stdout",
     "output_type": "stream",
     "text": [
      "best epoch is 1,  train score is 0.9853959063404405, valid score is 0.9854624904929452\n",
      "Finally, mean score is 0.9854459951445793, std is 0.0005142245905459239\n"
     ]
    },
    {
     "name": "stderr",
     "output_type": "stream",
     "text": [
      "\n"
     ]
    }
   ],
   "source": [
    "recorder = cv_oof(arch,\n",
    "                  nflods=5,\n",
    "                  read_param=read_param,\n",
    "                  gen=gen,\n",
    "                  train_param=train_param,\n",
    "                  tfr_param=tfr_param,\n",
    "                  ckpt_dir=ckpt_dir,\n",
    "                  verbose=2, retrain=False, rewrite=False)"
   ]
  },
  {
   "cell_type": "code",
   "execution_count": null,
   "metadata": {},
   "outputs": [],
   "source": [
    "recorder = {'train_info': {'flod_0': {'train': [4294967296, 0.9844014687485503],\n",
    "   'valid': [4294967296, 0.9854998715642718]},\n",
    "  'flod_1': {'train': [4294967296, 0.9852299896615956],\n",
    "   'valid': [4294967296, 0.9853130825569256]},\n",
    "  'flod_2': {'train': [4294967296, 0.985502572254796],\n",
    "   'valid': [4294967296, 0.9851784395763774]},\n",
    "  'flod_3': {'train': [4294967296, 0.9853713586822712],\n",
    "   'valid': [4294967296, 0.9843840416262998]},\n",
    "  'flod_4': {'train': [4294967296, 0.9852895707947068],\n",
    "   'valid': [4294967296, 0.9853626834643874]}},\n",
    " 'besttrain': [0.9844014687485503,\n",
    "  0.9852299896615956,\n",
    "  0.985502572254796,\n",
    "  0.9853713586822712,\n",
    "  0.9852895707947068],\n",
    " 'bestvalid': [0.9854998715642718,\n",
    "  0.9853130825569256,\n",
    "  0.9851784395763774,\n",
    "  0.9843840416262998,\n",
    "  0.9853626834643874],\n",
    " 'mean': 0.9851476237576524,\n",
    " 'std': 0.9851476237576524}"
   ]
  },
  {
   "cell_type": "code",
   "execution_count": 6,
   "metadata": {},
   "outputs": [
    {
     "name": "stderr",
     "output_type": "stream",
     "text": [
      "W1017 19:55:00.146900 139750419167040 deprecation.py:323] From /home/leechh/anaconda3/envs/severstal/lib/python3.7/site-packages/tensorflow/python/training/saver.py:1276: checkpoint_exists (from tensorflow.python.training.checkpoint_management) is deprecated and will be removed in a future version.\n",
      "Instructions for updating:\n",
      "Use standard file APIs to check for files with this prefix.\n",
      "epoch 2, train loss: 0.9852, valid metric: 0.9862: 100%|██████████| 10054/10054 [03:49<00:00,  1.72s/it]\n"
     ]
    },
    {
     "name": "stdout",
     "output_type": "stream",
     "text": [
      "best epoch is 2,  train score is 0.9852367830319174, valid score is 0.9862481043655529\n"
     ]
    },
    {
     "name": "stderr",
     "output_type": "stream",
     "text": [
      "epoch 2, train loss: 0.9853, valid metric: 0.9854: 100%|██████████| 10054/10054 [03:40<00:00,  1.14s/it]\n"
     ]
    },
    {
     "name": "stdout",
     "output_type": "stream",
     "text": [
      "best epoch is 2,  train score is 0.98529500434383, valid score is 0.9853735650543571\n"
     ]
    },
    {
     "name": "stderr",
     "output_type": "stream",
     "text": [
      "epoch 2, train loss: 0.9855, valid metric: 0.9852: 100%|██████████| 10054/10054 [03:40<00:00,  8.02s/it]\n"
     ]
    },
    {
     "name": "stdout",
     "output_type": "stream",
     "text": [
      "best epoch is 2,  train score is 0.9855336628117665, valid score is 0.9852084135762642\n"
     ]
    },
    {
     "name": "stderr",
     "output_type": "stream",
     "text": [
      "epoch 2, train loss: 0.9857, valid metric: 0.9847: 100%|██████████| 10054/10054 [03:38<00:00,  1.60s/it]\n"
     ]
    },
    {
     "name": "stdout",
     "output_type": "stream",
     "text": [
      "best epoch is 2,  train score is 0.9856950978777957, valid score is 0.9847428369303971\n"
     ]
    },
    {
     "name": "stderr",
     "output_type": "stream",
     "text": [
      "epoch 2, train loss: 0.9854, valid metric: 0.9854: 100%|██████████| 10056/10056 [03:39<00:00,  1.61s/it]"
     ]
    },
    {
     "name": "stdout",
     "output_type": "stream",
     "text": [
      "best epoch is 2,  train score is 0.9853662292079596, valid score is 0.9854324647005955\n",
      "Finally, mean score is 0.9854010769254333, std is 0.00048776974833902506\n"
     ]
    },
    {
     "name": "stderr",
     "output_type": "stream",
     "text": [
      "\n"
     ]
    }
   ],
   "source": [
    "recorder = cv_oof(arch,\n",
    "                  nflods=5,\n",
    "                  read_param=read_param,\n",
    "                  gen=gen,\n",
    "                  train_param=train_param,\n",
    "                  tfr_param=tfr_param,\n",
    "                  ckpt_dir=ckpt_dir,\n",
    "                  verbose=2, retrain=recorder['info'], rewrite=False)"
   ]
  },
  {
   "cell_type": "code",
   "execution_count": null,
   "metadata": {},
   "outputs": [],
   "source": []
  }
 ],
 "metadata": {
  "kernelspec": {
   "display_name": "Python 3",
   "language": "python",
   "name": "python3"
  },
  "language_info": {
   "codemirror_mode": {
    "name": "ipython",
    "version": 3
   },
   "file_extension": ".py",
   "mimetype": "text/x-python",
   "name": "python",
   "nbconvert_exporter": "python",
   "pygments_lexer": "ipython3",
   "version": "3.7.4"
  }
 },
 "nbformat": 4,
 "nbformat_minor": 2
}
