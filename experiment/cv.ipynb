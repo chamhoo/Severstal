{
 "cells": [
  {
   "cell_type": "code",
   "execution_count": 1,
   "metadata": {},
   "outputs": [],
   "source": [
    "%load_ext autoreload\n",
    "%autoreload 2\n",
    "\n",
    "import warnings\n",
    "warnings.filterwarnings('ignore')\n",
    "\n",
    "import os\n",
    "import numpy as np\n",
    "import matplotlib.pyplot as plt\n",
    "import tensorflow as tf\n",
    "from tqdm import tqdm\n",
    "\n",
    "import sys\n",
    "sys.path.append(os.path.abspath('..'))\n",
    "\n",
    "from tools.network import Network\n",
    "from tools.decode_raw import decode_img_seg\n",
    "\n",
    "os.environ[\"TF_CPP_MIN_LOG_LEVEL\"] = \"3\""
   ]
  },
  {
   "cell_type": "code",
   "execution_count": 2,
   "metadata": {},
   "outputs": [],
   "source": [
    "csv_path = os.path.join('..', 'data', 'train.csv')\n",
    "train_path = os.path.join('..', 'data', 'train_images')\n",
    "tfr_path = os.path.join('..', 'tmp', 'TFRecords', 'train')\n",
    "ckpt_dir = os.path.join('..', 'tmp', 'ckpt', 'cv')\n",
    "\n",
    "feature_dict = {\n",
    "    'img': 'bytes', \n",
    "    'label': 'bytes',\n",
    "    'height': 'int', \n",
    "    'width': 'int',\n",
    "    'channels': 'int',\n",
    "    'n_class': 'int'\n",
    "}\n",
    "\n",
    "rt_params = {\n",
    "    'feature_dict': feature_dict, \n",
    "    'decode_raw': decode_img_seg,\n",
    "    'tfr_path': os.path.join(tfr_path, '*.tfrecord'),\n",
    "    'shuffle_buffer': 100,\n",
    "    'compression': 'GZIP',\n",
    "    'num_parallel_reads':1\n",
    "}\n",
    "\n",
    "readtrain_params = {\n",
    "    'rt_params': rt_params, \n",
    "    'train_path': train_path,\n",
    "    'epoch': 50,\n",
    "    'batch_size': 1,\n",
    "    'reshape': [256, 1600],\n",
    "    'reshape_method': 3}\n",
    "\n",
    "arch_params = {\n",
    "    'num_layers': 5,\n",
    "    'feature_growth_rate': 64,\n",
    "    'n_class': 5,\n",
    "    'channels': 3,\n",
    "    'padding': 'SAME',\n",
    "    'dropout_rate':0.25\n",
    "}\n",
    "\n",
    "model_params = {\n",
    "    'model_name': 'unet',\n",
    "    'model_params': arch_params,\n",
    "    'loss': 'cross_entropy',\n",
    "    'metric': 'neg_dice',\n",
    "    'optimizer': 'momentun',\n",
    "    'rate': 1e-6}\n",
    "\n",
    "network = Network()"
   ]
  },
  {
   "cell_type": "code",
   "execution_count": null,
   "metadata": {},
   "outputs": [
    {
     "name": "stdout",
     "output_type": "stream",
     "text": [
      "WARNING:tensorflow:From /home/chamhaolee/anaconda3/envs/severstal/lib/python3.7/site-packages/tensorflow/python/data/ops/dataset_ops.py:1419: colocate_with (from tensorflow.python.framework.ops) is deprecated and will be removed in a future version.\n",
      "Instructions for updating:\n",
      "Colocations handled automatically by placer.\n",
      "WARNING:tensorflow:From /home/chamhaolee/anaconda3/envs/severstal/lib/python3.7/site-packages/tensorflow/python/ops/losses/losses_impl.py:209: to_float (from tensorflow.python.ops.math_ops) is deprecated and will be removed in a future version.\n",
      "Instructions for updating:\n",
      "Use tf.cast instead.\n"
     ]
    },
    {
     "name": "stderr",
     "output_type": "stream",
     "text": [
      "epoch 1, train cross_entropy: 0.5775, valid neg_dice: 0.0904: 100%|██████████| 10055/10055 [1:47:05<00:00,  1.56it/s] \n",
      "epoch 2, train cross_entropy: 0.2145, valid neg_dice: 0.0819: 100%|██████████| 10055/10055 [1:46:55<00:00,  1.57it/s] \n",
      "epoch 3, train cross_entropy: 0.192, valid neg_dice: 0.0782: 100%|██████████| 10055/10055 [1:46:54<00:00,  1.57it/s] \n",
      "epoch 4, train cross_entropy: 0.1809, valid neg_dice: 0.0742: 100%|██████████| 10055/10055 [1:46:55<00:00,  1.57it/s] \n",
      "epoch 5, train cross_entropy: 0.1754, valid neg_dice: 0.0714: 100%|██████████| 10055/10055 [1:46:46<00:00,  1.57it/s] \n",
      "epoch 7, train cross_entropy: 0.1706, valid neg_dice: 0.0659: 100%|██████████| 10055/10055 [1:46:40<00:00,  1.57it/s] \n",
      "epoch 8, train cross_entropy: 0.1673, valid neg_dice: 0.0656: 100%|██████████| 10055/10055 [1:46:44<00:00,  1.57it/s] \n",
      "epoch 9, train cross_entropy: 0.1687, valid neg_dice: 0.0655: 100%|██████████| 10055/10055 [1:46:43<00:00,  1.57it/s] \n",
      "epoch 10, train cross_entropy: 0.1684, valid neg_dice: 0.0657: 100%|██████████| 10055/10055 [1:46:45<00:00,  1.57it/s] \n"
     ]
    },
    {
     "name": "stdout",
     "output_type": "stream",
     "text": [
      "best epoch is 9,  train score is 0.16869319724349766, valid score is 0.06548715501110522\n",
      "ok\n"
     ]
    },
    {
     "name": "stderr",
     "output_type": "stream",
     "text": [
      "epoch 1, train cross_entropy: 0.6033, valid neg_dice: 0.0937: 100%|██████████| 10055/10055 [1:46:14<00:00,  1.58it/s] \n",
      "epoch 2, train cross_entropy: 0.2186, valid neg_dice: 0.0842: 100%|██████████| 10055/10055 [1:46:37<00:00,  1.57it/s] \n",
      "epoch 3, train cross_entropy: 0.1961, valid neg_dice: 0.0798: 100%|██████████| 10055/10055 [1:46:38<00:00,  1.57it/s] \n",
      "epoch 4, train cross_entropy: 0.184, valid neg_dice: 0:  97%|█████████▋| 9736/10055 [1:34:12<03:05,  1.72it/s] "
     ]
    }
   ],
   "source": [
    "result = network.cv(\n",
    "    readtrain_params, \n",
    "    model_params,\n",
    "    ckpt_dir=ckpt_dir,\n",
    "    nfolds=10,\n",
    "    train_percentage=0.8,\n",
    "    early_stopping=1,\n",
    "    verbose=2)"
   ]
  },
  {
   "cell_type": "code",
   "execution_count": null,
   "metadata": {},
   "outputs": [],
   "source": []
  }
 ],
 "metadata": {
  "kernelspec": {
   "display_name": "Python 3",
   "language": "python",
   "name": "python3"
  },
  "language_info": {
   "codemirror_mode": {
    "name": "ipython",
    "version": 3
   },
   "file_extension": ".py",
   "mimetype": "text/x-python",
   "name": "python",
   "nbconvert_exporter": "python",
   "pygments_lexer": "ipython3",
   "version": "3.7.4"
  }
 },
 "nbformat": 4,
 "nbformat_minor": 2
}
