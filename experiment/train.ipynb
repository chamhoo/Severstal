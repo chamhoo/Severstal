{
 "cells": [
  {
   "cell_type": "markdown",
   "metadata": {},
   "source": [
    "# Train"
   ]
  },
  {
   "cell_type": "code",
   "execution_count": null,
   "metadata": {},
   "outputs": [],
   "source": [
    "%load_ext autoreload\n",
    "%autoreload 2\n",
    "\n",
    "import warnings\n",
    "warnings.filterwarnings('ignore')\n",
    "\n",
    "import os\n",
    "import numpy as np\n",
    "import matplotlib.pyplot as plt\n",
    "import tensorflow as tf\n",
    "from tqdm import tqdm\n",
    "\n",
    "import sys\n",
    "sys.path.append(os.path.abspath('..'))\n",
    "\n",
    "from fiat.arch.image_seg import unet, resunet_arch\n",
    "# from fiat.components.arch import \n",
    "from fiat.os import count\n",
    "from fiat.data import TFR\n",
    "from fiat.train import train\n",
    "from tools.data import feature_dict, decode_img_seg, seg_train_gen\n",
    "from fiat.DataAugment import flip_up_down, flip_left_right\n",
    "\n",
    "os.environ[\"TF_CPP_MIN_LOG_LEVEL\"] = \"2\""
   ]
  },
  {
   "cell_type": "code",
   "execution_count": null,
   "metadata": {},
   "outputs": [],
   "source": [
    "csv_path = os.path.join('..', 'data', 'train.csv')\n",
    "train_path = os.path.join('..', 'data', 'train_images')\n",
    "tfr_path = os.path.join('..', 'tmp', 'TFRecords', 'train')\n",
    "ckpt_path = os.path.join('..', 'tmp', 'ckpt')"
   ]
  },
  {
   "cell_type": "code",
   "execution_count": null,
   "metadata": {},
   "outputs": [],
   "source": [
    "tfr = TFR(path=tfr_path,\n",
    "          count=count(train_path),\n",
    "          feature_dict=feature_dict, \n",
    "          shards=30, \n",
    "          compression='GZIP',\n",
    "          c_level=1)"
   ]
  },
  {
   "cell_type": "code",
   "execution_count": null,
   "metadata": {},
   "outputs": [],
   "source": [
    "#gen = seg_train_gen(csv_path, train_path, sep='[_,]', nclass=5)\n",
    "#tfr.write(gen)"
   ]
  },
  {
   "cell_type": "code",
   "execution_count": null,
   "metadata": {},
   "outputs": [],
   "source": [
    "arch = unet(num_layers=4, \n",
    "            feature_growth_rate=64,\n",
    "            n_class=4,\n",
    "            channels=3,\n",
    "            padding='SAME',\n",
    "            dropout_rate=0.,\n",
    "            active='sigmoid')\n"
   ]
  },
  {
   "cell_type": "code",
   "execution_count": null,
   "metadata": {},
   "outputs": [],
   "source": [
    "arch = resunet_arch(reslayer='resnext',\n",
    "                    numlayers='101',\n",
    "                    numstages=4,\n",
    "                    channels=64,\n",
    "                    n_class=4,\n",
    "                    padding='SAME',\n",
    "                    rate=0.25,\n",
    "                    active='sigmoid')"
   ]
  },
  {
   "cell_type": "code",
   "execution_count": null,
   "metadata": {},
   "outputs": [],
   "source": [
    "read = tfr.read(decode_raw=decode_img_seg,\n",
    "                split=10,\n",
    "                valid=0, \n",
    "                # augment=[flip_up_down(), flip_left_right()],\n",
    "                buffer_size=400,\n",
    "                num_parallel_reads=6)\n"
   ]
  },
  {
   "cell_type": "code",
   "execution_count": null,
   "metadata": {
    "scrolled": false
   },
   "outputs": [],
   "source": [
    "tf.reset_default_graph()\n",
    "data, _, _ = read()\n",
    "dataset = data['train']\n",
    "dataset = dataset.batch(1)\n",
    "iterator = dataset.make_initializable_iterator()\n",
    "img_t, label_t = iterator.get_next()\n",
    "y, y_map = arch(img_t)\n",
    "saver = tf.train.Saver()\n",
    "with tf.Session() as sess:\n",
    "    \n",
    "    sess.run((tf.global_variables_initializer(), tf.local_variables_initializer()))\n",
    "    sess.run(iterator.initializer)\n",
    "    saver.restore(sess, os.path.join(ckpt_path, f'epoch_3', 'model.ckpt'))\n",
    "    \n",
    "    for i in range(5):\n",
    "        img, label, y_p = sess.run((img_t, label_t, y_map))\n",
    "        plt.figure(figsize=[20, 20])\n",
    "        plt.subplot(9, 1, 1)\n",
    "        plt.imshow(img[0].astype('int'))\n",
    "        for j in range(4):\n",
    "            plt.subplot(9, 1, j+2)\n",
    "            plt.imshow(y_p[0,:,:,j].astype('int'))\n",
    "            plt.subplot(9, 1, j+6)\n",
    "            plt.imshow(label[0,:,:,j].astype('int'))"
   ]
  },
  {
   "cell_type": "code",
   "execution_count": null,
   "metadata": {
    "scrolled": false
   },
   "outputs": [],
   "source": [
    "info = train(arch, read, \n",
    "             loss='dice', metric='mean_dice', optimizer='adam',\n",
    "             rate=2e-5, epoch=1, batch_size=32, early_stopping=1,\n",
    "             verbose=2, retrain=False, reshape=[128, 800], reshape_method=3, ckpt_path=ckpt_path)"
   ]
  },
  {
   "cell_type": "code",
   "execution_count": null,
   "metadata": {},
   "outputs": [],
   "source": [
    "info2 = train(arch, read, \n",
    "             loss='bce', metric='mean_dice', optimizer='adam',\n",
    "             rate=2e-5, epoch=5, batch_size=32, early_stopping=1,\n",
    "             verbose=2, retrain=info, reshape=[128, 800], reshape_method=3, ckpt_path=ckpt_path)"
   ]
  },
  {
   "cell_type": "code",
   "execution_count": null,
   "metadata": {
    "scrolled": false
   },
   "outputs": [],
   "source": [
    "arch = unet(num_layers=4, \n",
    "            feature_growth_rate=16,\n",
    "            n_class=4,\n",
    "            channels=3,\n",
    "            padding='SAME',\n",
    "            dropout_rate=0.25,\n",
    "            active='sigmoid')\n",
    "\n",
    "read = tfr.read(decode_raw=decode_img_seg,\n",
    "         split=10,\n",
    "         valid=0,\n",
    "         buffer_size=100,\n",
    "         num_parallel_reads=2)\n",
    "\n",
    "info2 = train(arch, read, \n",
    "             loss='dice', metric='dice', optimizer='momentun',\n",
    "             rate=1e-6, epoch=1, batch_size=1, early_stopping=1,\n",
    "             verbose=2, retrain=info, reshape=[32, 200], reshape_method=3,\n",
    "              ckpt_path=ckpt_path, distrainable=['3', '4'])"
   ]
  },
  {
   "cell_type": "code",
   "execution_count": null,
   "metadata": {},
   "outputs": [],
   "source": [
    "tf.all_variables()"
   ]
  },
  {
   "cell_type": "code",
   "execution_count": null,
   "metadata": {},
   "outputs": [],
   "source": [
    "[i.name.split('/')[0].split('_')[-1] for i in tf.all_variables()]"
   ]
  },
  {
   "cell_type": "code",
   "execution_count": null,
   "metadata": {},
   "outputs": [],
   "source": []
  }
 ],
 "metadata": {
  "kernelspec": {
   "display_name": "Python 3",
   "language": "python",
   "name": "python3"
  },
  "language_info": {
   "codemirror_mode": {
    "name": "ipython",
    "version": 3
   },
   "file_extension": ".py",
   "mimetype": "text/x-python",
   "name": "python",
   "nbconvert_exporter": "python",
   "pygments_lexer": "ipython3",
   "version": "3.7.4"
  }
 },
 "nbformat": 4,
 "nbformat_minor": 2
}
