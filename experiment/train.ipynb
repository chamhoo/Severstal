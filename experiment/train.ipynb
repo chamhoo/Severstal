{
 "cells": [
  {
   "cell_type": "markdown",
   "metadata": {},
   "source": [
    "# Train"
   ]
  },
  {
   "cell_type": "code",
   "execution_count": 1,
   "metadata": {},
   "outputs": [],
   "source": [
    "%load_ext autoreload\n",
    "%autoreload 2\n",
    "\n",
    "import warnings\n",
    "warnings.filterwarnings('ignore')\n",
    "\n",
    "import os\n",
    "import numpy as np\n",
    "import matplotlib.pyplot as plt\n",
    "import tensorflow as tf\n",
    "from tqdm import tqdm\n",
    "\n",
    "import sys\n",
    "sys.path.append(os.path.abspath('..'))\n",
    "\n",
    "from tools.network import Network\n",
    "from tools.decode_raw import decode_img_seg, decode_img_seg_test\n",
    "\n",
    "os.environ[\"TF_CPP_MIN_LOG_LEVEL\"] = \"3\""
   ]
  },
  {
   "cell_type": "code",
   "execution_count": 2,
   "metadata": {},
   "outputs": [],
   "source": [
    "csv_path = os.path.join('..', 'data', 'train.csv')\n",
    "train_path = os.path.join('..', 'data', 'train_images')\n",
    "tfr_path = os.path.join('..', 'tmp', 'TFRecords', 'train')\n",
    "\n",
    "feature_dict = {\n",
    "    'img': 'bytes', \n",
    "    'label': 'bytes',\n",
    "    'height': 'int', \n",
    "    'width': 'int',\n",
    "    'channels': 'int',\n",
    "    'n_class': 'int'\n",
    "}\n",
    "\n",
    "network = Network()"
   ]
  },
  {
   "cell_type": "code",
   "execution_count": 3,
   "metadata": {},
   "outputs": [
    {
     "name": "stderr",
     "output_type": "stream",
     "text": [
      "WARNING: Logging before flag parsing goes to stderr.\n",
      "W0927 11:12:49.035653 139789207226176 deprecation.py:323] From /home/leechh/anaconda3/envs/severstal/lib/python3.7/site-packages/tensorflow/python/data/util/random_seed.py:58: add_dispatch_support.<locals>.wrapper (from tensorflow.python.ops.array_ops) is deprecated and will be removed in a future version.\n",
      "Instructions for updating:\n",
      "Use tf.where in 2.0, which has the same broadcast rule as np.where\n",
      "W0927 11:12:49.131274 139789207226176 deprecation.py:323] From /home/leechh/code/Severstal/tools/data_tfr.py:143: DatasetV1.make_initializable_iterator (from tensorflow.python.data.ops.dataset_ops) is deprecated and will be removed in a future version.\n",
      "Instructions for updating:\n",
      "Use `for ... in dataset:` to iterate over a dataset. If using `tf.estimator`, return the `Dataset` object directly from your input function. As a last resort, you can use `tf.compat.v1.data.make_initializable_iterator(dataset)`.\n"
     ]
    }
   ],
   "source": [
    "rt_params = {\n",
    "    'feature_dict': feature_dict, \n",
    "    'decode_raw': decode_img_seg,\n",
    "    'tfr_path': os.path.join(tfr_path, '*.tfrecord'),\n",
    "    'shuffle_buffer': 100,\n",
    "    'compression': 'GZIP',\n",
    "    'num_parallel_reads':4\n",
    "}\n",
    "\n",
    "readtrain_params = {\n",
    "    'rt_params': rt_params, \n",
    "    'train_path': train_path,\n",
    "    'epoch': 1,\n",
    "    'batch_size': 32,\n",
    "    'reshape': [32, 200],\n",
    "    'reshape_method': 3}\n",
    "\n",
    "\n",
    "network.readtrain(**readtrain_params)"
   ]
  },
  {
   "cell_type": "code",
   "execution_count": 4,
   "metadata": {},
   "outputs": [
    {
     "name": "stderr",
     "output_type": "stream",
     "text": [
      "W0927 11:12:49.607770 139789207226176 deprecation_wrapper.py:119] From /home/leechh/code/Severstal/tools/model_component.py:23: The name tf.truncated_normal is deprecated. Please use tf.random.truncated_normal instead.\n",
      "\n",
      "W0927 11:12:49.654023 139789207226176 deprecation_wrapper.py:119] From /home/leechh/code/Severstal/tools/model_component.py:62: The name tf.nn.max_pool is deprecated. Please use tf.nn.max_pool2d instead.\n",
      "\n",
      "W0927 11:12:49.951290 139789207226176 deprecation_wrapper.py:119] From /home/leechh/code/Severstal/tools/model_component.py:123: The name tf.losses.softmax_cross_entropy is deprecated. Please use tf.compat.v1.losses.softmax_cross_entropy instead.\n",
      "\n",
      "W0927 11:12:50.000592 139789207226176 deprecation_wrapper.py:119] From /home/leechh/code/Severstal/tools/model_component.py:99: The name tf.train.MomentumOptimizer is deprecated. Please use tf.compat.v1.train.MomentumOptimizer instead.\n",
      "\n"
     ]
    }
   ],
   "source": [
    "model_params = {\n",
    "    'num_layers': 3,\n",
    "    'feature_growth_rate': 16,\n",
    "    'n_class': 5,\n",
    "    'channels': 3,\n",
    "    'padding': 'VALID',\n",
    "    'dropout_rate':0.25\n",
    "}\n",
    "\n",
    "network.model(\n",
    "    model_name='unet',\n",
    "    model_params=model_params,\n",
    "    loss='cross_entropy', \n",
    "    metric='neg_dice',\n",
    "    optimizer='momentun',\n",
    "    rate=1e-6)"
   ]
  },
  {
   "cell_type": "code",
   "execution_count": 5,
   "metadata": {},
   "outputs": [
    {
     "name": "stderr",
     "output_type": "stream",
     "text": [
      "W0927 11:12:52.947725 139789207226176 deprecation_wrapper.py:119] From /home/leechh/code/Severstal/tools/network.py:128: The name tf.train.Saver is deprecated. Please use tf.compat.v1.train.Saver instead.\n",
      "\n",
      "W0927 11:12:53.003290 139789207226176 deprecation_wrapper.py:119] From /home/leechh/code/Severstal/tools/network.py:129: The name tf.Session is deprecated. Please use tf.compat.v1.Session instead.\n",
      "\n",
      "W0927 11:12:53.126159 139789207226176 deprecation_wrapper.py:119] From /home/leechh/code/Severstal/tools/network.py:140: The name tf.global_variables_initializer is deprecated. Please use tf.compat.v1.global_variables_initializer instead.\n",
      "\n",
      "W0927 11:12:53.129343 139789207226176 deprecation_wrapper.py:119] From /home/leechh/code/Severstal/tools/network.py:140: The name tf.local_variables_initializer is deprecated. Please use tf.compat.v1.local_variables_initializer instead.\n",
      "\n",
      "epoch 1, train cross_entropy: 1.6623, valid neg_dice: 0.8004: 100%|██████████| 629/629 [03:28<00:00,  7.88s/it]\n",
      "epoch 2, train cross_entropy: 1.5742, valid neg_dice: 0.7852: 100%|██████████| 629/629 [03:23<00:00,  8.34s/it]"
     ]
    },
    {
     "name": "stdout",
     "output_type": "stream",
     "text": [
      "best epoch is 2,  train score is 1.5742340228136846, valid score is 0.7852048294993634\n"
     ]
    },
    {
     "name": "stderr",
     "output_type": "stream",
     "text": [
      "\n"
     ]
    }
   ],
   "source": [
    "network.train(ckpt_dir=os.path.join('..', 'tmp', 'ckpt'),\n",
    "              train_percentage = 0.8, \n",
    "              early_stopping = 1,\n",
    "              verbose = 2,\n",
    "              retrain=False)"
   ]
  },
  {
   "cell_type": "code",
   "execution_count": null,
   "metadata": {},
   "outputs": [],
   "source": []
  }
 ],
 "metadata": {
  "kernelspec": {
   "display_name": "Python 3",
   "language": "python",
   "name": "python3"
  },
  "language_info": {
   "codemirror_mode": {
    "name": "ipython",
    "version": 3
   },
   "file_extension": ".py",
   "mimetype": "text/x-python",
   "name": "python",
   "nbconvert_exporter": "python",
   "pygments_lexer": "ipython3",
   "version": "3.7.4"
  }
 },
 "nbformat": 4,
 "nbformat_minor": 2
}
