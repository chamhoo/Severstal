{
 "cells": [
  {
   "cell_type": "markdown",
   "metadata": {},
   "source": [
    "# WRITE TFR"
   ]
  },
  {
   "cell_type": "code",
   "execution_count": 1,
   "metadata": {},
   "outputs": [],
   "source": [
    "%load_ext autoreload\n",
    "%autoreload 2\n",
    "\n",
    "import warnings\n",
    "warnings.filterwarnings('ignore')\n",
    "\n",
    "import os\n",
    "import numpy as np\n",
    "from tqdm import tqdm\n",
    "\n",
    "import sys\n",
    "sys.path.append(os.path.abspath('..'))\n",
    "\n",
    "from fiat.os import count\n",
    "from fiat.data import TFR\n",
    "from tools.data import seg_train_gen, decode_img_seg, feature_dict\n",
    "\n",
    "os.environ[\"TF_CPP_MIN_LOG_LEVEL\"] = \"3\""
   ]
  },
  {
   "cell_type": "code",
   "execution_count": 2,
   "metadata": {},
   "outputs": [],
   "source": [
    "csv_path = os.path.join('..', 'data', 'train.csv')\n",
    "train_path = os.path.join('..', 'data', 'train_images')\n",
    "tfr_path = os.path.join('..', 'tmp', 'TFRecords', 'train')"
   ]
  },
  {
   "cell_type": "code",
   "execution_count": 3,
   "metadata": {},
   "outputs": [],
   "source": [
    "gen = seg_train_gen(csv_path, train_path, sep='[_,]', nclass=5)"
   ]
  },
  {
   "cell_type": "code",
   "execution_count": 4,
   "metadata": {},
   "outputs": [
    {
     "name": "stderr",
     "output_type": "stream",
     "text": [
      "100%|██████████| 629/629 [00:47<00:00, 13.63it/s]\n",
      "100%|██████████| 629/629 [00:47<00:00, 13.37it/s]\n",
      "100%|██████████| 629/629 [00:46<00:00, 13.45it/s]\n",
      "100%|██████████| 629/629 [00:46<00:00, 13.43it/s]\n",
      "100%|██████████| 629/629 [00:46<00:00, 13.42it/s]\n",
      "100%|██████████| 629/629 [00:46<00:00, 13.45it/s]\n",
      "100%|██████████| 629/629 [00:46<00:00, 13.43it/s]\n",
      "100%|██████████| 629/629 [00:46<00:00, 13.41it/s]\n",
      "100%|██████████| 629/629 [00:46<00:00, 13.49it/s]\n",
      "100%|██████████| 629/629 [00:47<00:00, 13.30it/s]\n",
      "100%|██████████| 629/629 [00:47<00:00, 13.33it/s]\n",
      "100%|██████████| 629/629 [00:46<00:00, 13.47it/s]\n",
      "100%|██████████| 629/629 [00:47<00:00, 13.35it/s]\n",
      "100%|██████████| 629/629 [00:47<00:00, 13.38it/s]\n",
      "100%|██████████| 629/629 [00:46<00:00, 13.43it/s]\n",
      "100%|██████████| 629/629 [00:46<00:00, 13.42it/s]\n",
      "100%|██████████| 629/629 [00:46<00:00, 13.47it/s]\n",
      "100%|██████████| 629/629 [00:46<00:00, 13.39it/s]\n",
      "100%|██████████| 629/629 [00:47<00:00, 13.33it/s]\n",
      "100%|██████████| 617/617 [00:46<00:00, 13.41it/s]\n"
     ]
    }
   ],
   "source": [
    "TFR(tfr_path, count(train_path), feature_dict, shards=20, compression='GZIP', c_level=1).write(gen)"
   ]
  },
  {
   "cell_type": "code",
   "execution_count": null,
   "metadata": {},
   "outputs": [],
   "source": []
  }
 ],
 "metadata": {
  "kernelspec": {
   "display_name": "Python 3",
   "language": "python",
   "name": "python3"
  },
  "language_info": {
   "codemirror_mode": {
    "name": "ipython",
    "version": 3
   },
   "file_extension": ".py",
   "mimetype": "text/x-python",
   "name": "python",
   "nbconvert_exporter": "python",
   "pygments_lexer": "ipython3",
   "version": "3.7.4"
  }
 },
 "nbformat": 4,
 "nbformat_minor": 2
}
