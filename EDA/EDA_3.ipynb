{
 "cells": [
  {
   "cell_type": "markdown",
   "metadata": {},
   "source": [
    "# EDA - 3\n",
    "***\n",
    "Explore mask overlapping areas"
   ]
  },
  {
   "cell_type": "code",
   "execution_count": null,
   "metadata": {},
   "outputs": [],
   "source": [
    "%load_ext autoreload\n",
    "%autoreload 2\n",
    "\n",
    "import warnings\n",
    "warnings.filterwarnings('ignore')\n",
    "\n",
    "import os\n",
    "import numpy as np\n",
    "import matplotlib.pyplot as plt\n",
    "import tensorflow as tf\n",
    "from tqdm import tqdm\n",
    "\n",
    "import sys\n",
    "sys.path.append(os.path.abspath('..'))\n",
    "\n",
    "from tools.mask import plotgen\n",
    "from tools.data_gen import DataGen"
   ]
  },
  {
   "cell_type": "code",
   "execution_count": null,
   "metadata": {},
   "outputs": [],
   "source": [
    "csv_path = os.path.join('..', 'data', 'train.csv')\n",
    "train_path = os.path.join('..', 'data', 'train_images')\n",
    "\n",
    "seg_train_gen_params = {\n",
    "    'csv_path': csv_path,\n",
    "    'train_path': train_path,\n",
    "    'height': 256,\n",
    "    'width': 1600, \n",
    "    'col': False,\n",
    "    'sep':'[_,]',\n",
    "    'n_class': 5\n",
    "}\n",
    "\n",
    "datagen = DataGen()\n",
    "gen = datagen.seg_train_gen(**seg_train_gen_params)\n",
    "\n",
    "for idx, i in tqdm(enumerate(gen)):\n",
    "    img = np.frombuffer(i['img'], dtype='uint8').reshape([256, 1600, 3]).astype('float32')\n",
    "    label = np.frombuffer(i['label'], dtype='uint8').reshape([256, 1600, 5])[...,:4].astype('float32')\n",
    "    ovlap = np.sum(label, axis=2) > 1\n",
    "    print(ovlap.shape)\n",
    "    if np.sum(ovlap) >= 1:\n",
    "        plotgen(label, img, [15, 7])\n",
    "        break"
   ]
  },
  {
   "cell_type": "code",
   "execution_count": null,
   "metadata": {},
   "outputs": [],
   "source": []
  }
 ],
 "metadata": {
  "kernelspec": {
   "display_name": "Python 3",
   "language": "python",
   "name": "python3"
  },
  "language_info": {
   "codemirror_mode": {
    "name": "ipython",
    "version": 3
   },
   "file_extension": ".py",
   "mimetype": "text/x-python",
   "name": "python",
   "nbconvert_exporter": "python",
   "pygments_lexer": "ipython3",
   "version": "3.7.3"
  }
 },
 "nbformat": 4,
 "nbformat_minor": 2
}
