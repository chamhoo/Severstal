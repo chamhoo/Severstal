{
 "cells": [
  {
   "cell_type": "markdown",
   "metadata": {},
   "source": [
    "# EDA 2 - Time of Read Data"
   ]
  },
  {
   "cell_type": "code",
   "execution_count": 1,
   "metadata": {},
   "outputs": [],
   "source": [
    "%load_ext autoreload\n",
    "%autoreload 2\n",
    "\n",
    "import warnings\n",
    "warnings.filterwarnings('ignore')\n",
    "\n",
    "import os\n",
    "import time\n",
    "import numpy as np\n",
    "import matplotlib.pyplot as plt\n",
    "import tensorflow as tf\n",
    "from tqdm import tqdm\n",
    "\n",
    "import sys\n",
    "sys.path.append(os.path.abspath('..'))\n",
    "\n",
    "from tools.data_reader import DataReader"
   ]
  },
  {
   "cell_type": "code",
   "execution_count": 2,
   "metadata": {},
   "outputs": [],
   "source": [
    "dr = DataReader()\n",
    "\n",
    "read_train_params = {\n",
    "    'path': '../data/train.csv',\n",
    "    'train_path': '../data/train_images',\n",
    "    'height': 256,\n",
    "    'width': 1600, \n",
    "    'col': False,\n",
    "    'sep':'[_,]'\n",
    "}\n",
    "\n",
    "gen = dr.read_train(**read_train_params)\n",
    "count = dr.count('../data/train_images')"
   ]
  },
  {
   "cell_type": "code",
   "execution_count": null,
   "metadata": {},
   "outputs": [],
   "source": [
    "for i in tqdm(gen):\n",
    "    pass"
   ]
  },
  {
   "cell_type": "code",
   "execution_count": 3,
   "metadata": {},
   "outputs": [
    {
     "name": "stderr",
     "output_type": "stream",
     "text": [
      "  1%|          | 9/1000 [00:00<00:11, 85.81it/s]"
     ]
    },
    {
     "name": "stdout",
     "output_type": "stream",
     "text": [
      "rm old dir\n"
     ]
    },
    {
     "name": "stderr",
     "output_type": "stream",
     "text": [
      "100%|██████████| 1000/1000 [00:08<00:00, 114.85it/s]\n",
      "100%|██████████| 1000/1000 [00:10<00:00, 93.59it/s]\n",
      "100%|██████████| 1000/1000 [00:10<00:00, 91.41it/s]\n",
      "100%|██████████| 1000/1000 [00:11<00:00, 89.49it/s]\n",
      "100%|██████████| 1000/1000 [00:11<00:00, 90.75it/s]\n",
      "100%|██████████| 1000/1000 [00:11<00:00, 88.80it/s]\n",
      "100%|██████████| 1000/1000 [00:11<00:00, 90.53it/s]\n",
      "100%|██████████| 1000/1000 [00:10<00:00, 94.04it/s]\n",
      "100%|██████████| 1000/1000 [00:10<00:00, 94.17it/s]\n",
      "100%|██████████| 1000/1000 [00:10<00:00, 93.90it/s]\n",
      "100%|██████████| 1000/1000 [00:10<00:00, 92.03it/s]\n",
      "100%|██████████| 1000/1000 [00:10<00:00, 94.02it/s]\n",
      " 56%|█████▌    | 560/1000 [00:06<00:04, 89.65it/s] \n"
     ]
    }
   ],
   "source": [
    "write_tfr_params = {\n",
    "    'data_generator': gen,\n",
    "    'count': count,\n",
    "    'tfrpath': 'train',\n",
    "    'haslabel': True,\n",
    "    'shards': 1000}\n",
    "\n",
    "dr.write_tfr(**write_tfr_params)"
   ]
  },
  {
   "cell_type": "code",
   "execution_count": null,
   "metadata": {},
   "outputs": [],
   "source": []
  }
 ],
 "metadata": {
  "kernelspec": {
   "display_name": "Python 3",
   "language": "python",
   "name": "python3"
  },
  "language_info": {
   "codemirror_mode": {
    "name": "ipython",
    "version": 3
   },
   "file_extension": ".py",
   "mimetype": "text/x-python",
   "name": "python",
   "nbconvert_exporter": "python",
   "pygments_lexer": "ipython3",
   "version": "3.7.3"
  }
 },
 "nbformat": 4,
 "nbformat_minor": 2
}
