{
 "cells": [
  {
   "cell_type": "markdown",
   "metadata": {},
   "source": [
    "# EDA 2 - Time of Read Data"
   ]
  },
  {
   "cell_type": "code",
   "execution_count": 1,
   "metadata": {},
   "outputs": [],
   "source": [
    "%load_ext autoreload\n",
    "%autoreload 2\n",
    "\n",
    "import warnings\n",
    "warnings.filterwarnings('ignore')\n",
    "\n",
    "import os\n",
    "import time\n",
    "import shutil\n",
    "import numpy as np\n",
    "import matplotlib.pyplot as plt\n",
    "import tensorflow as tf\n",
    "from tqdm import tqdm\n",
    "from PIL import Image\n",
    "\n",
    "import sys\n",
    "sys.path.append(os.path.abspath('..'))\n",
    "\n",
    "from tools.data_reader import DataReader\n",
    "from tools.decode_raw import decode_img_seg"
   ]
  },
  {
   "cell_type": "code",
   "execution_count": 2,
   "metadata": {},
   "outputs": [],
   "source": [
    "dr = DataReader()\n",
    "\n",
    "read_train_params = {\n",
    "    'path': '../data/train.csv',\n",
    "    'train_path': '../data/train_images',\n",
    "    'height': 256,\n",
    "    'width': 1600, \n",
    "    'col': False,\n",
    "    'sep':'[_,]'\n",
    "}\n",
    "\n",
    "gen = dr.read_train(**read_train_params)\n",
    "count = dr.count('../data/train_images')"
   ]
  },
  {
   "cell_type": "code",
   "execution_count": null,
   "metadata": {},
   "outputs": [],
   "source": [
    "for i in tqdm(gen):\n",
    "    pass"
   ]
  },
  {
   "cell_type": "code",
   "execution_count": 3,
   "metadata": {},
   "outputs": [
    {
     "name": "stderr",
     "output_type": "stream",
     "text": [
      "100%|██████████| 1257/1257 [02:11<00:00,  9.58it/s]\n",
      "100%|██████████| 1257/1257 [07:59<00:00,  2.62it/s]   \n",
      "100%|██████████| 1257/1257 [02:11<00:00,  9.52it/s]\n",
      "100%|██████████| 1257/1257 [02:11<00:00,  9.53it/s]\n",
      "100%|██████████| 1257/1257 [02:11<00:00,  9.57it/s]\n",
      "100%|██████████| 1257/1257 [02:12<00:00,  9.51it/s]\n",
      "100%|██████████| 1257/1257 [02:11<00:00,  9.53it/s]\n",
      "100%|██████████| 1257/1257 [02:12<00:00,  9.51it/s]\n",
      "100%|██████████| 1257/1257 [02:12<00:00,  9.50it/s]\n",
      "100%|█████████▉| 1255/1257 [02:12<00:00,  9.21it/s]"
     ]
    },
    {
     "name": "stdout",
     "output_type": "stream",
     "text": [
      "1667.0370497703552\n"
     ]
    }
   ],
   "source": [
    "feature_dict = {'img': 'bytes', 'label': 'bytes'}\n",
    "\n",
    "write_tfr_params = {\n",
    "    'data_generator': gen,\n",
    "    'count': count,\n",
    "    'tfrpath': 'train',\n",
    "    'feature_dict': feature_dict,\n",
    "    'shards': 10,\n",
    "    'compression': 'GZIP', 'c_level': 1}\n",
    "\n",
    "dr.write_tfr(**write_tfr_params)"
   ]
  },
  {
   "cell_type": "code",
   "execution_count": null,
   "metadata": {},
   "outputs": [],
   "source": [
    "files = tf.train.match_filenames_once(os.path.join('..', 'tmp', 'TFRecords', 'test', '*.tfrecord'))\n",
    "\n",
    "with tf.Session() as sess:\n",
    "    # tf.local_variables_initializer().run()\n",
    "    sess.run(tf.local_variables_initializer())\n",
    "    print(sess.run(files))"
   ]
  },
  {
   "cell_type": "code",
   "execution_count": null,
   "metadata": {},
   "outputs": [],
   "source": [
    "read_params = {\n",
    "    'feature_dict': {'img': 'bytes', 'label': 'bytes'},\n",
    "    'tfr_path': os.path.join('..', 'tmp', 'TFRecords', 'train_1', '*'),\n",
    "    'decode_raw': decode_img_seg,\n",
    "    'shuffle_buffer': 1000,\n",
    "    'num_valid': 2000,\n",
    "    'compression': 'GZIP'}\n",
    "\n",
    "dr = DataReader()\n",
    "dr.readtfrecorde(**read_params)"
   ]
  },
  {
   "cell_type": "code",
   "execution_count": null,
   "metadata": {},
   "outputs": [],
   "source": [
    "# test tfrecords\n",
    "dir_path = os.path.join('..', 'tmp', 'TFRecords', f'test')\n",
    "if os.path.exists(dir_path):\n",
    "    shutil.rmtree(dir_path)\n",
    "os.makedirs(dir_path)\n",
    "\n",
    "with tf.io.TFRecordWriter('../tmp/TFRecords/test/1.tfrecord') as writer:\n",
    "    for i in range(100):\n",
    "        img = np.zeros((4, 4)).astype('uint8').tostring()\n",
    "        feature = {'img': tf.train.Feature(bytes_list=tf.train.BytesList(value=[img]))}\n",
    "        example = tf.train.Example(features=tf.train.Features(feature=feature))\n",
    "        writer.write(example.SerializeToString())"
   ]
  },
  {
   "cell_type": "code",
   "execution_count": 5,
   "metadata": {},
   "outputs": [],
   "source": [
    "# test datasets\n",
    "def parse(raw):\n",
    "    features = {'img': tf.io.FixedLenFeature([], tf.string)}\n",
    "    raw = tf.parse_single_example(raw, features=features)\n",
    "    img = tf.decode_raw(raw['img'], tf.uint8)\n",
    "    return img \n",
    "\n",
    "tfr_path = os.path.join('..', 'tmp', 'TFRecords', 'train', '*.tfrecord')\n",
    "files = tf.io.match_filenames_once(tfr_path)\n",
    "dataset = tf.data.TFRecordDataset(files, compression_type='GZIP')\n",
    "dataset = dataset.map(parse)"
   ]
  },
  {
   "cell_type": "code",
   "execution_count": null,
   "metadata": {},
   "outputs": [],
   "source": []
  }
 ],
 "metadata": {
  "kernelspec": {
   "display_name": "Python 3",
   "language": "python",
   "name": "python3"
  },
  "language_info": {
   "codemirror_mode": {
    "name": "ipython",
    "version": 3
   },
   "file_extension": ".py",
   "mimetype": "text/x-python",
   "name": "python",
   "nbconvert_exporter": "python",
   "pygments_lexer": "ipython3",
   "version": "3.7.3"
  }
 },
 "nbformat": 4,
 "nbformat_minor": 2
}
