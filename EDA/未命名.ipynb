{
 "cells": [
  {
   "cell_type": "markdown",
   "metadata": {},
   "source": [
    "# TEST"
   ]
  },
  {
   "cell_type": "code",
   "execution_count": 1,
   "metadata": {},
   "outputs": [],
   "source": [
    "%load_ext autoreload\n",
    "%autoreload 2\n",
    "\n",
    "import warnings\n",
    "warnings.filterwarnings('ignore')\n",
    "\n",
    "import os\n",
    "import numpy as np\n",
    "import matplotlib.pyplot as plt\n",
    "import tensorflow as tf\n",
    "from tqdm import tqdm\n",
    "\n",
    "import sys\n",
    "sys.path.append(os.path.abspath('..'))\n",
    "\n",
    "from tools.network import Network\n",
    "from tools.decode_raw import decode_img_seg, decode_img_seg_test\n",
    "\n",
    "os.environ[\"TF_CPP_MIN_LOG_LEVEL\"] = \"3\""
   ]
  },
  {
   "cell_type": "code",
   "execution_count": 2,
   "metadata": {},
   "outputs": [],
   "source": [
    "csv_path = os.path.join('..', 'data', 'train.csv')\n",
    "train_path = os.path.join('..', 'data', 'train_images')\n",
    "tfr_path = os.path.join('..', 'tmp', 'TFRecords', 'train')\n",
    "\n",
    "feature_dict = {\n",
    "    'img': 'bytes', \n",
    "    'label': 'bytes',\n",
    "    'height': 'int', \n",
    "    'width': 'int',\n",
    "    'channels': 'int',\n",
    "    'n_class': 'int'\n",
    "}\n",
    "\n",
    "network = Network()"
   ]
  },
  {
   "cell_type": "code",
   "execution_count": null,
   "metadata": {},
   "outputs": [],
   "source": [
    "seg_train_gen_params = {\n",
    "    'csv_path': csv_path,\n",
    "    'train_path': train_path,\n",
    "    'height': 256,\n",
    "    'width': 1600, \n",
    "    'col': False,\n",
    "    'sep':'[_,]',\n",
    "    'n_class': 5\n",
    "}\n",
    "\n",
    "gen = network.seg_train_gen(**seg_train_gen_params)\n",
    "\n",
    "write_tfr_params = {\n",
    "    'data_generator': gen,\n",
    "    'count': network.count(train_path),\n",
    "    'tfrpath': tfr_path,\n",
    "    'feature_dict': feature_dict,\n",
    "    'shards': 10,\n",
    "    'compression': 'GZIP', \n",
    "    'c_level': 1\n",
    "}\n",
    "\n",
    "network.write_tfr(**write_tfr_params)"
   ]
  },
  {
   "cell_type": "code",
   "execution_count": 5,
   "metadata": {
    "scrolled": false
   },
   "outputs": [
    {
     "name": "stderr",
     "output_type": "stream",
     "text": [
      "WARNING: Logging before flag parsing goes to stderr.\n",
      "W0924 23:58:52.174742 139677028742976 deprecation.py:323] From /home/leechh/anaconda3/envs/severstal/lib/python3.7/site-packages/tensorflow/python/data/util/random_seed.py:58: add_dispatch_support.<locals>.wrapper (from tensorflow.python.ops.array_ops) is deprecated and will be removed in a future version.\n",
      "Instructions for updating:\n",
      "Use tf.where in 2.0, which has the same broadcast rule as np.where\n",
      "W0924 23:58:52.222161 139677028742976 deprecation.py:323] From /home/leechh/code/Severstal/tools/data_tfr.py:147: DatasetV1.make_initializable_iterator (from tensorflow.python.data.ops.dataset_ops) is deprecated and will be removed in a future version.\n",
      "Instructions for updating:\n",
      "Use `for ... in dataset:` to iterate over a dataset. If using `tf.estimator`, return the `Dataset` object directly from your input function. As a last resort, you can use `tf.compat.v1.data.make_initializable_iterator(dataset)`.\n"
     ]
    }
   ],
   "source": [
    "rt_params = {\n",
    "    'feature_dict': feature_dict, \n",
    "    'decode_raw': decode_img_seg,\n",
    "    'tfr_path': os.path.join(tfr_path, '*.tfrecord'),\n",
    "    'shuffle_buffer': 100,\n",
    "    'compression': 'GZIP'\n",
    "}\n",
    "\n",
    "readtrain_params = {\n",
    "    'rt_params': rt_params, \n",
    "    'train_path': train_path,\n",
    "    'valid_percentage': 0.2,\n",
    "    'epoch': 1,\n",
    "    'batch_size': 16,\n",
    "    'reshape': [32, 200],\n",
    "    'reshape_method': 3}\n",
    "\n",
    "\n",
    "network.readtrain(**readtrain_params)"
   ]
  },
  {
   "cell_type": "code",
   "execution_count": 6,
   "metadata": {},
   "outputs": [
    {
     "name": "stderr",
     "output_type": "stream",
     "text": [
      "W0924 23:59:07.532428 139677028742976 deprecation_wrapper.py:119] From /home/leechh/code/Severstal/tools/model_component.py:23: The name tf.truncated_normal is deprecated. Please use tf.random.truncated_normal instead.\n",
      "\n",
      "W0924 23:59:07.581837 139677028742976 deprecation_wrapper.py:119] From /home/leechh/code/Severstal/tools/model_component.py:62: The name tf.nn.max_pool is deprecated. Please use tf.nn.max_pool2d instead.\n",
      "\n",
      "W0924 23:59:07.885282 139677028742976 deprecation_wrapper.py:119] From /home/leechh/code/Severstal/tools/model_component.py:99: The name tf.train.MomentumOptimizer is deprecated. Please use tf.compat.v1.train.MomentumOptimizer instead.\n",
      "\n"
     ]
    }
   ],
   "source": [
    "model_params = {\n",
    "    'num_layers': 3,\n",
    "    'feature_growth_rate': 16,\n",
    "    'n_class': 5,\n",
    "    'channels': 3,\n",
    "    'padding': 'SAME',\n",
    "    'dropout_rate':0.25\n",
    "}\n",
    "\n",
    "network.model(\n",
    "    model_name='unet',\n",
    "    model_params=model_params,\n",
    "    loss='dice', \n",
    "    metric='dice',\n",
    "    optimizer='momentun',\n",
    "    rate=1e-5)"
   ]
  },
  {
   "cell_type": "code",
   "execution_count": 7,
   "metadata": {
    "scrolled": false
   },
   "outputs": [
    {
     "name": "stderr",
     "output_type": "stream",
     "text": [
      "W0924 23:59:10.437595 139677028742976 deprecation_wrapper.py:119] From /home/leechh/code/Severstal/tools/network.py:80: The name tf.train.Saver is deprecated. Please use tf.compat.v1.train.Saver instead.\n",
      "\n",
      "W0924 23:59:10.497708 139677028742976 deprecation_wrapper.py:119] From /home/leechh/code/Severstal/tools/network.py:81: The name tf.Session is deprecated. Please use tf.compat.v1.Session instead.\n",
      "\n",
      "W0924 23:59:10.600203 139677028742976 deprecation_wrapper.py:119] From /home/leechh/code/Severstal/tools/network.py:91: The name tf.global_variables_initializer is deprecated. Please use tf.compat.v1.global_variables_initializer instead.\n",
      "\n",
      "W0924 23:59:10.604472 139677028742976 deprecation_wrapper.py:119] From /home/leechh/code/Severstal/tools/network.py:91: The name tf.local_variables_initializer is deprecated. Please use tf.compat.v1.local_variables_initializer instead.\n",
      "\n"
     ]
    },
    {
     "name": "stdout",
     "output_type": "stream",
     "text": [
      "After 1 epoch, train dice is 0.7936999797821045, valid dice is 0.7943999767303467\n",
      "best epoch is 1,  train score is 0.79374760389328, valid score is 0.7943637371063232\n"
     ]
    }
   ],
   "source": [
    "network.train(ckpt_dir=os.path.join('..', 'tmp', 'ckpt'), early_stopping = 5, verbose = 2, retrain=False)"
   ]
  },
  {
   "cell_type": "code",
   "execution_count": null,
   "metadata": {},
   "outputs": [],
   "source": []
  },
  {
   "cell_type": "code",
   "execution_count": null,
   "metadata": {
    "scrolled": true
   },
   "outputs": [],
   "source": [
    "network.test()"
   ]
  },
  {
   "cell_type": "code",
   "execution_count": null,
   "metadata": {},
   "outputs": [],
   "source": []
  }
 ],
 "metadata": {
  "kernelspec": {
   "display_name": "Python 3",
   "language": "python",
   "name": "python3"
  },
  "language_info": {
   "codemirror_mode": {
    "name": "ipython",
    "version": 3
   },
   "file_extension": ".py",
   "mimetype": "text/x-python",
   "name": "python",
   "nbconvert_exporter": "python",
   "pygments_lexer": "ipython3",
   "version": "3.7.4"
  }
 },
 "nbformat": 4,
 "nbformat_minor": 2
}
